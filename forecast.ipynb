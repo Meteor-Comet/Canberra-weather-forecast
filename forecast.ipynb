{
 "cells": [
  {
   "cell_type": "code",
   "execution_count": 109,
   "id": "05e49473-2cfc-402d-8e0e-3f3931f8d6e6",
   "metadata": {},
   "outputs": [],
   "source": [
    "import pandas as pd\n",
    "import numpy as np\n",
    "from sklearn.impute import SimpleImputer\n",
    "from sklearn.preprocessing import LabelEncoder\n",
    "from sklearn.model_selection import train_test_split, GridSearchCV\n",
    "from xgboost import XGBClassifier\n",
    "import seaborn as sns"
   ]
  },
  {
   "cell_type": "code",
   "execution_count": 110,
   "id": "df9bf8c3-1067-4cbc-8dab-bdbdecb4b509",
   "metadata": {},
   "outputs": [],
   "source": [
    "# 加载数据\n",
    "train = pd.read_csv('train_weather.csv', index_col='Unnamed: 0')\n",
    "test = pd.read_csv('test_weather.csv', index_col='Unnamed: 0')\n",
    "submit = pd.read_csv('submit_result.csv', index_col='Unnamed: 0')"
   ]
  },
  {
   "cell_type": "code",
   "execution_count": 112,
   "id": "f631f3d4-5b2e-4e1b-bbbc-c138e69fb78e",
   "metadata": {},
   "outputs": [
    {
     "name": "stdout",
     "output_type": "stream",
     "text": [
      "<class 'pandas.core.frame.DataFrame'>\n",
      "Int64Index: 113754 entries, 0 to 113753\n",
      "Data columns (total 22 columns):\n",
      " #   Column         Non-Null Count   Dtype  \n",
      "---  ------         --------------   -----  \n",
      " 0   Date           113754 non-null  object \n",
      " 1   Location       113754 non-null  object \n",
      " 2   MinTemp        113229 non-null  float64\n",
      " 3   MaxTemp        113486 non-null  float64\n",
      " 4   Rainfall       112572 non-null  float64\n",
      " 5   Evaporation    64963 non-null   float64\n",
      " 6   Sunshine       59409 non-null   float64\n",
      " 7   WindGustDir    106296 non-null  object \n",
      " 8   WindGustSpeed  106348 non-null  float64\n",
      " 9   WindDir9am     105718 non-null  object \n",
      " 10  WindDir3pm     110731 non-null  object \n",
      " 11  WindSpeed9am   112671 non-null  float64\n",
      " 12  WindSpeed3pm   111645 non-null  float64\n",
      " 13  Humidity9am    112334 non-null  float64\n",
      " 14  Humidity3pm    110841 non-null  float64\n",
      " 15  Pressure9am    102497 non-null  float64\n",
      " 16  Pressure3pm    102529 non-null  float64\n",
      " 17  Cloud9am       70713 non-null   float64\n",
      " 18  Cloud3pm       67987 non-null   float64\n",
      " 19  Temp9am        113018 non-null  float64\n",
      " 20  Temp3pm        111548 non-null  float64\n",
      " 21  RainTomorrow   113754 non-null  object \n",
      "dtypes: float64(16), object(6)\n",
      "memory usage: 20.0+ MB\n",
      "<class 'pandas.core.frame.DataFrame'>\n",
      "Int64Index: 28439 entries, 0 to 28438\n",
      "Data columns (total 21 columns):\n",
      " #   Column         Non-Null Count  Dtype  \n",
      "---  ------         --------------  -----  \n",
      " 0   Date           28439 non-null  object \n",
      " 1   Location       28439 non-null  object \n",
      " 2   MinTemp        28327 non-null  float64\n",
      " 3   MaxTemp        28385 non-null  float64\n",
      " 4   Rainfall       28215 non-null  float64\n",
      " 5   Evaporation    16387 non-null  float64\n",
      " 6   Sunshine       14968 non-null  float64\n",
      " 7   WindGustDir    26567 non-null  object \n",
      " 8   WindGustSpeed  26575 non-null  float64\n",
      " 9   WindDir9am     26462 non-null  object \n",
      " 10  WindDir3pm     27684 non-null  object \n",
      " 11  WindSpeed9am   28174 non-null  float64\n",
      " 12  WindSpeed3pm   27918 non-null  float64\n",
      " 13  Humidity9am    28085 non-null  float64\n",
      " 14  Humidity3pm    27742 non-null  float64\n",
      " 15  Pressure9am    25682 non-null  float64\n",
      " 16  Pressure3pm    25683 non-null  float64\n",
      " 17  Cloud9am       17823 non-null  float64\n",
      " 18  Cloud3pm       17112 non-null  float64\n",
      " 19  Temp9am        28271 non-null  float64\n",
      " 20  Temp3pm        27919 non-null  float64\n",
      "dtypes: float64(16), object(5)\n",
      "memory usage: 4.8+ MB\n"
     ]
    },
    {
     "data": {
      "text/plain": [
       "(None, None)"
      ]
     },
     "execution_count": 112,
     "metadata": {},
     "output_type": "execute_result"
    }
   ],
   "source": [
    "# 删除训练集中的空值行\n",
    "train = train.dropna(subset=['RainTomorrow'])\n",
    "\n",
    "# 再次检查数据集的信息\n",
    "train.info(), test.info()\n"
   ]
  },
  {
   "cell_type": "code",
   "execution_count": 113,
   "id": "bea319fe-3f4d-44f1-97aa-6afbcecbf905",
   "metadata": {},
   "outputs": [],
   "source": [
    "# 找出 Cloud3pm 列中值为 9 的行的索引\n",
    "invalid_rows_test = test[test['Cloud9am'] == 9].index\n",
    "# 删除找到的行\n",
    "test.drop(invalid_rows_test, inplace=True)\n",
    "invalid_rows_train = train[train['Cloud3pm'] == 9].index\n",
    "\n",
    "# 删除找到的行\n",
    "train.drop(invalid_rows_train, inplace=True)\n",
    "\n",
    "submit.drop(invalid_rows_test, inplace=True)"
   ]
  },
  {
   "cell_type": "code",
   "execution_count": 114,
   "id": "94fd60a9-9e91-4ab2-9e89-d95b74b2f938",
   "metadata": {},
   "outputs": [],
   "source": [
    "# 更改索引为日期\n",
    "train['Date'] = pd.to_datetime(train['Date'])  # 将日期列转换为 datetime 类型\n",
    "train.set_index('Date', inplace=True)  # 设置日期列为索引\n",
    "test['Date'] = pd.to_datetime(test['Date'])  # 将日期列转换为 datetime 类型\n",
    "test.set_index('Date', inplace=True)  # 设置日期列为索引"
   ]
  },
  {
   "cell_type": "code",
   "execution_count": 115,
   "id": "6cfaf6b4-8e20-4acf-ad6c-b76fd7374b84",
   "metadata": {},
   "outputs": [],
   "source": [
    "# 离散型数据处理缺失值\n",
    "cate_columns = ['RainTomorrow', 'WindDir3pm', 'WindDir9am', 'WindGustDir']\n",
    "\n",
    "si = SimpleImputer(missing_values=np.nan,strategy=\"most_frequent\") # 使用众数填充缺失值\n",
    "\n",
    "# 在训练集上进行fit和transform\n",
    "train[cate_columns] = si.fit_transform(train[cate_columns])"
   ]
  },
  {
   "cell_type": "code",
   "execution_count": 116,
   "id": "a53df1b8-c6f4-41ec-8fc5-84e6d98cf929",
   "metadata": {},
   "outputs": [],
   "source": [
    "# 测试集\n",
    "cate_columns = ['WindDir3pm', 'WindDir9am', 'WindGustDir']\n",
    "\n",
    "si = SimpleImputer(missing_values=np.nan,strategy=\"most_frequent\") # 使用众数填充缺失值\n",
    "\n",
    "test[cate_columns] = si.fit_transform(test[cate_columns])"
   ]
  },
  {
   "cell_type": "code",
   "execution_count": 117,
   "id": "ed1441a3-f865-4d19-b8dd-d96d210922e2",
   "metadata": {},
   "outputs": [],
   "source": [
    "# 连续型数据处理缺失值\n",
    "# 连续型数据是指可以取到某个区间内的任意值的数据，通常以实数表示。\n",
    "\n",
    "cate_columns = ['RainTomorrow', 'WindDir3pm', 'WindDir9am', 'WindGustDir', 'Location']\n",
    "\n",
    "columns = train.columns.to_list()\n",
    "for col in cate_columns:\n",
    "    columns.remove(col)\n",
    "impmean = SimpleImputer(missing_values=np.nan,strategy = \"mean\")\n",
    "train[columns] = impmean.fit_transform(train[columns])"
   ]
  },
  {
   "cell_type": "code",
   "execution_count": 118,
   "id": "55663d92-8fee-4826-8503-eafda3535145",
   "metadata": {},
   "outputs": [],
   "source": [
    "# 测试集\n",
    "\n",
    "cate_columns = ['WindDir3pm', 'WindDir9am', 'WindGustDir', 'Location']\n",
    "\n",
    "columns = test.columns.to_list()\n",
    "for col in cate_columns:\n",
    "    columns.remove(col)\n",
    "    \n",
    "impmean = SimpleImputer(missing_values=np.nan,strategy = \"mean\")\n",
    "# 同理\n",
    "\n",
    "test[columns] = impmean.fit_transform(test[columns])"
   ]
  },
  {
   "cell_type": "code",
   "execution_count": 119,
   "id": "d89e3710-232f-4049-98f1-d5e7bdf7ffeb",
   "metadata": {},
   "outputs": [
    {
     "data": {
      "text/plain": [
       "(Location         0\n",
       " MinTemp          0\n",
       " MaxTemp          0\n",
       " Rainfall         0\n",
       " Evaporation      0\n",
       " Sunshine         0\n",
       " WindGustDir      0\n",
       " WindGustSpeed    0\n",
       " WindDir9am       0\n",
       " WindDir3pm       0\n",
       " WindSpeed9am     0\n",
       " WindSpeed3pm     0\n",
       " Humidity9am      0\n",
       " Humidity3pm      0\n",
       " Pressure9am      0\n",
       " Pressure3pm      0\n",
       " Cloud9am         0\n",
       " Cloud3pm         0\n",
       " Temp9am          0\n",
       " Temp3pm          0\n",
       " RainTomorrow     0\n",
       " dtype: int64,\n",
       " Location         0\n",
       " MinTemp          0\n",
       " MaxTemp          0\n",
       " Rainfall         0\n",
       " Evaporation      0\n",
       " Sunshine         0\n",
       " WindGustDir      0\n",
       " WindGustSpeed    0\n",
       " WindDir9am       0\n",
       " WindDir3pm       0\n",
       " WindSpeed9am     0\n",
       " WindSpeed3pm     0\n",
       " Humidity9am      0\n",
       " Humidity3pm      0\n",
       " Pressure9am      0\n",
       " Pressure3pm      0\n",
       " Cloud9am         0\n",
       " Cloud3pm         0\n",
       " Temp9am          0\n",
       " Temp3pm          0\n",
       " dtype: int64)"
      ]
     },
     "execution_count": 119,
     "metadata": {},
     "output_type": "execute_result"
    }
   ],
   "source": [
    "# 查看数据处理后的效果\n",
    "train.isnull().sum(), test.isnull().sum()"
   ]
  },
  {
   "cell_type": "code",
   "execution_count": 120,
   "id": "7d64fec8-21a6-45ec-bee5-e5966e57bc24",
   "metadata": {},
   "outputs": [],
   "source": [
    "# 离散型数据标准化\n",
    "\n",
    "cate_columns = ['RainTomorrow', 'WindDir3pm', 'WindDir9am', 'WindGustDir', 'Location']\n",
    "lb = LabelEncoder()\n",
    "train[cate_columns] = train[cate_columns].apply(lambda x: lb.fit_transform(x.astype(str)))"
   ]
  },
  {
   "cell_type": "code",
   "execution_count": 123,
   "id": "3bc31209-6803-4eb5-aeed-e99d38b4f4b0",
   "metadata": {},
   "outputs": [],
   "source": [
    "# 测试集\n",
    "\n",
    "cate_columns = ['WindDir3pm', 'WindDir9am', 'WindGustDir', 'Location']\n",
    "lb = LabelEncoder()\n",
    "test[cate_columns] = test[cate_columns].apply(lambda x: lb.fit_transform(x.astype(str)))"
   ]
  },
  {
   "cell_type": "code",
   "execution_count": 124,
   "id": "4adfc5a7-3b9d-4b6e-8dca-137f0fea7584",
   "metadata": {},
   "outputs": [
    {
     "data": {
      "text/plain": [
       "<Axes: >"
      ]
     },
     "execution_count": 124,
     "metadata": {},
     "output_type": "execute_result"
    },
    {
     "data": {
      "image/png": "[encoded data removed]",
      "text/plain": [
       "<Figure size 640x480 with 2 Axes>"
      ]
     },
     "metadata": {},
     "output_type": "display_data"
    }
   ],
   "source": [
    "# 特征相关性\n",
    "\n",
    "sns.heatmap(train.corr())"
   ]
  },
  {
   "cell_type": "code",
   "execution_count": 125,
   "id": "f582da54-a2e0-42be-a86b-d07ecb9d7bf8",
   "metadata": {},
   "outputs": [],
   "source": [
    "# 切分训练集和测试集\n",
    "\n",
    "x = train.drop('RainTomorrow', axis=1)\n",
    "y = train['RainTomorrow']\n",
    "\n",
    "x_train, x_test, y_train, y_test = train_test_split(x, y, test_size=0.3, random_state=73)"
   ]
  },
  {
   "cell_type": "code",
   "execution_count": 126,
   "id": "688dacce-1221-4811-a4c3-f5552a74b975",
   "metadata": {},
   "outputs": [
    {
     "data": {
      "text/html": [
       "<style>#sk-container-id-1 {color: black;background-color: white;}#sk-container-id-1 pre{padding: 0;}#sk-container-id-1 div.sk-toggleable {background-color: white;}#sk-container-id-1 label.sk-toggleable__label {cursor: pointer;display: block;width: 100%;margin-bottom: 0;padding: 0.3em;box-sizing: border-box;text-align: center;}#sk-container-id-1 label.sk-toggleable__label-arrow:before {content: \"▸\";float: left;margin-right: 0.25em;color: #696969;}#sk-container-id-1 label.sk-toggleable__label-arrow:hover:before {color: black;}#sk-container-id-1 div.sk-estimator:hover label.sk-toggleable__label-arrow:before {color: black;}#sk-container-id-1 div.sk-toggleable__content {max-height: 0;max-width: 0;overflow: hidden;text-align: left;background-color: #f0f8ff;}#sk-container-id-1 div.sk-toggleable__content pre {margin: 0.2em;color: black;border-radius: 0.25em;background-color: #f0f8ff;}#sk-container-id-1 input.sk-toggleable__control:checked~div.sk-toggleable__content {max-height: 200px;max-width: 100%;overflow: auto;}#sk-container-id-1 input.sk-toggleable__control:checked~label.sk-toggleable__label-arrow:before {content: \"▾\";}#sk-container-id-1 div.sk-estimator input.sk-toggleable__control:checked~label.sk-toggleable__label {background-color: #d4ebff;}#sk-container-id-1 div.sk-label input.sk-toggleable__control:checked~label.sk-toggleable__label {background-color: #d4ebff;}#sk-container-id-1 input.sk-hidden--visually {border: 0;clip: rect(1px 1px 1px 1px);clip: rect(1px, 1px, 1px, 1px);height: 1px;margin: -1px;overflow: hidden;padding: 0;position: absolute;width: 1px;}#sk-container-id-1 div.sk-estimator {font-family: monospace;background-color: #f0f8ff;border: 1px dotted black;border-radius: 0.25em;box-sizing: border-box;margin-bottom: 0.5em;}#sk-container-id-1 div.sk-estimator:hover {background-color: #d4ebff;}#sk-container-id-1 div.sk-parallel-item::after {content: \"\";width: 100%;border-bottom: 1px solid gray;flex-grow: 1;}#sk-container-id-1 div.sk-label:hover label.sk-toggleable__label {background-color: #d4ebff;}#sk-container-id-1 div.sk-serial::before {content: \"\";position: absolute;border-left: 1px solid gray;box-sizing: border-box;top: 0;bottom: 0;left: 50%;z-index: 0;}#sk-container-id-1 div.sk-serial {display: flex;flex-direction: column;align-items: center;background-color: white;padding-right: 0.2em;padding-left: 0.2em;position: relative;}#sk-container-id-1 div.sk-item {position: relative;z-index: 1;}#sk-container-id-1 div.sk-parallel {display: flex;align-items: stretch;justify-content: center;background-color: white;position: relative;}#sk-container-id-1 div.sk-item::before, #sk-container-id-1 div.sk-parallel-item::before {content: \"\";position: absolute;border-left: 1px solid gray;box-sizing: border-box;top: 0;bottom: 0;left: 50%;z-index: -1;}#sk-container-id-1 div.sk-parallel-item {display: flex;flex-direction: column;z-index: 1;position: relative;background-color: white;}#sk-container-id-1 div.sk-parallel-item:first-child::after {align-self: flex-end;width: 50%;}#sk-container-id-1 div.sk-parallel-item:last-child::after {align-self: flex-start;width: 50%;}#sk-container-id-1 div.sk-parallel-item:only-child::after {width: 0;}#sk-container-id-1 div.sk-dashed-wrapped {border: 1px dashed gray;margin: 0 0.4em 0.5em 0.4em;box-sizing: border-box;padding-bottom: 0.4em;background-color: white;}#sk-container-id-1 div.sk-label label {font-family: monospace;font-weight: bold;display: inline-block;line-height: 1.2em;}#sk-container-id-1 div.sk-label-container {text-align: center;}#sk-container-id-1 div.sk-container {/* jupyter's `normalize.less` sets `[hidden] { display: none; }` but bootstrap.min.css set `[hidden] { display: none !important; }` so we also need the `!important` here to be able to override the default hidden behavior on the sphinx rendered scikit-learn.org. See: https://github.com/scikit-learn/scikit-learn/issues/21755 */display: inline-block !important;position: relative;}#sk-container-id-1 div.sk-text-repr-fallback {display: none;}</style><div id=\"sk-container-id-1\" class=\"sk-top-container\"><div class=\"sk-text-repr-fallback\"><pre>XGBClassifier(base_score=None, booster=None, callbacks=None,\n",
       "              colsample_bylevel=None, colsample_bynode=None,\n",
       "              colsample_bytree=None, device=None, early_stopping_rounds=None,\n",
       "              enable_categorical=False, eval_metric=None, feature_types=None,\n",
       "              gamma=None, grow_policy=None, importance_type=None,\n",
       "              interaction_constraints=None, learning_rate=None, max_bin=None,\n",
       "              max_cat_threshold=None, max_cat_to_onehot=None,\n",
       "              max_delta_step=None, max_depth=None, max_leaves=None,\n",
       "              min_child_weight=None, missing=nan, monotone_constraints=None,\n",
       "              multi_strategy=None, n_estimators=None, n_jobs=None,\n",
       "              num_parallel_tree=None, random_state=73, ...)</pre><b>In a Jupyter environment, please rerun this cell to show the HTML representation or trust the notebook. <br />On GitHub, the HTML representation is unable to render, please try loading this page with nbviewer.org.</b></div><div class=\"sk-container\" hidden><div class=\"sk-item\"><div class=\"sk-estimator sk-toggleable\"><input class=\"sk-toggleable__control sk-hidden--visually\" id=\"sk-estimator-id-1\" type=\"checkbox\" checked><label for=\"sk-estimator-id-1\" class=\"sk-toggleable__label sk-toggleable__label-arrow\">XGBClassifier</label><div class=\"sk-toggleable__content\"><pre>XGBClassifier(base_score=None, booster=None, callbacks=None,\n",
       "              colsample_bylevel=None, colsample_bynode=None,\n",
       "              colsample_bytree=None, device=None, early_stopping_rounds=None,\n",
       "              enable_categorical=False, eval_metric=None, feature_types=None,\n",
       "              gamma=None, grow_policy=None, importance_type=None,\n",
       "              interaction_constraints=None, learning_rate=None, max_bin=None,\n",
       "              max_cat_threshold=None, max_cat_to_onehot=None,\n",
       "              max_delta_step=None, max_depth=None, max_leaves=None,\n",
       "              min_child_weight=None, missing=nan, monotone_constraints=None,\n",
       "              multi_strategy=None, n_estimators=None, n_jobs=None,\n",
       "              num_parallel_tree=None, random_state=73, ...)</pre></div></div></div></div></div>"
      ],
      "text/plain": [
       "XGBClassifier(base_score=None, booster=None, callbacks=None,\n",
       "              colsample_bylevel=None, colsample_bynode=None,\n",
       "              colsample_bytree=None, device=None, early_stopping_rounds=None,\n",
       "              enable_categorical=False, eval_metric=None, feature_types=None,\n",
       "              gamma=None, grow_policy=None, importance_type=None,\n",
       "              interaction_constraints=None, learning_rate=None, max_bin=None,\n",
       "              max_cat_threshold=None, max_cat_to_onehot=None,\n",
       "              max_delta_step=None, max_depth=None, max_leaves=None,\n",
       "              min_child_weight=None, missing=nan, monotone_constraints=None,\n",
       "              multi_strategy=None, n_estimators=None, n_jobs=None,\n",
       "              num_parallel_tree=None, random_state=73, ...)"
      ]
     },
     "execution_count": 126,
     "metadata": {},
     "output_type": "execute_result"
    }
   ],
   "source": [
    "# 构建模型\n",
    "\n",
    "model = XGBClassifier(random_state=73)\n",
    "model.fit(x_train, y_train)"
   ]
  },
  {
   "cell_type": "code",
   "execution_count": 127,
   "id": "74e82884-3113-482f-9b06-7635259f3467",
   "metadata": {},
   "outputs": [],
   "source": [
    "y_pred = model.predict(x_test)"
   ]
  },
  {
   "cell_type": "code",
   "execution_count": 128,
   "id": "0f52266d-8e18-4c36-82af-d45f93a92eb4",
   "metadata": {},
   "outputs": [
    {
     "name": "stdout",
     "output_type": "stream",
     "text": [
      "模型的准确率：0.8610\n"
     ]
    }
   ],
   "source": [
    "from sklearn.metrics import accuracy_score\n",
    "\n",
    "# 假设 y_test 是测试集的真实标签\n",
    "accuracy = accuracy_score(y_test, y_pred)\n",
    "print(f\"模型的准确率：{accuracy:.4f}\")"
   ]
  },
  {
   "cell_type": "code",
   "execution_count": 129,
   "id": "fbf1e5e7-d0c5-4aec-a9a8-15d17c50f995",
   "metadata": {},
   "outputs": [],
   "source": [
    "# 模型调参\n",
    "param_grid = {\n",
    "    \"max_depth\": [3, 5, 7, 10],\n",
    "    \"learning_rate\": [0.01, 0.1, 0.5],\n",
    "    \"n_estimators\": [50, 100, 200],\n",
    "    \"gamma\": [0, 0.1, 0.2, 0.5],\n",
    "    \"min_child_weight\": [1, 3, 5]\n",
    "}\n",
    "\n",
    "# GridSearchCV\n",
    "grid_search = GridSearchCV(estimator=model, param_grid=param_grid, cv=5, scoring='accuracy', verbose=1, n_jobs=-1)"
   ]
  },
  {
   "cell_type": "code",
   "execution_count": 130,
   "id": "6c0ff3be-a59f-4f1a-a79c-5bda9f83f6e7",
   "metadata": {},
   "outputs": [
    {
     "name": "stdout",
     "output_type": "stream",
     "text": [
      "Fitting 5 folds for each of 432 candidates, totalling 2160 fits\n"
     ]
    },
    {
     "data": {
      "text/html": [
       "<style>#sk-container-id-2 {color: black;background-color: white;}#sk-container-id-2 pre{padding: 0;}#sk-container-id-2 div.sk-toggleable {background-color: white;}#sk-container-id-2 label.sk-toggleable__label {cursor: pointer;display: block;width: 100%;margin-bottom: 0;padding: 0.3em;box-sizing: border-box;text-align: center;}#sk-container-id-2 label.sk-toggleable__label-arrow:before {content: \"▸\";float: left;margin-right: 0.25em;color: #696969;}#sk-container-id-2 label.sk-toggleable__label-arrow:hover:before {color: black;}#sk-container-id-2 div.sk-estimator:hover label.sk-toggleable__label-arrow:before {color: black;}#sk-container-id-2 div.sk-toggleable__content {max-height: 0;max-width: 0;overflow: hidden;text-align: left;background-color: #f0f8ff;}#sk-container-id-2 div.sk-toggleable__content pre {margin: 0.2em;color: black;border-radius: 0.25em;background-color: #f0f8ff;}#sk-container-id-2 input.sk-toggleable__control:checked~div.sk-toggleable__content {max-height: 200px;max-width: 100%;overflow: auto;}#sk-container-id-2 input.sk-toggleable__control:checked~label.sk-toggleable__label-arrow:before {content: \"▾\";}#sk-container-id-2 div.sk-estimator input.sk-toggleable__control:checked~label.sk-toggleable__label {background-color: #d4ebff;}#sk-container-id-2 div.sk-label input.sk-toggleable__control:checked~label.sk-toggleable__label {background-color: #d4ebff;}#sk-container-id-2 input.sk-hidden--visually {border: 0;clip: rect(1px 1px 1px 1px);clip: rect(1px, 1px, 1px, 1px);height: 1px;margin: -1px;overflow: hidden;padding: 0;position: absolute;width: 1px;}#sk-container-id-2 div.sk-estimator {font-family: monospace;background-color: #f0f8ff;border: 1px dotted black;border-radius: 0.25em;box-sizing: border-box;margin-bottom: 0.5em;}#sk-container-id-2 div.sk-estimator:hover {background-color: #d4ebff;}#sk-container-id-2 div.sk-parallel-item::after {content: \"\";width: 100%;border-bottom: 1px solid gray;flex-grow: 1;}#sk-container-id-2 div.sk-label:hover label.sk-toggleable__label {background-color: #d4ebff;}#sk-container-id-2 div.sk-serial::before {content: \"\";position: absolute;border-left: 1px solid gray;box-sizing: border-box;top: 0;bottom: 0;left: 50%;z-index: 0;}#sk-container-id-2 div.sk-serial {display: flex;flex-direction: column;align-items: center;background-color: white;padding-right: 0.2em;padding-left: 0.2em;position: relative;}#sk-container-id-2 div.sk-item {position: relative;z-index: 1;}#sk-container-id-2 div.sk-parallel {display: flex;align-items: stretch;justify-content: center;background-color: white;position: relative;}#sk-container-id-2 div.sk-item::before, #sk-container-id-2 div.sk-parallel-item::before {content: \"\";position: absolute;border-left: 1px solid gray;box-sizing: border-box;top: 0;bottom: 0;left: 50%;z-index: -1;}#sk-container-id-2 div.sk-parallel-item {display: flex;flex-direction: column;z-index: 1;position: relative;background-color: white;}#sk-container-id-2 div.sk-parallel-item:first-child::after {align-self: flex-end;width: 50%;}#sk-container-id-2 div.sk-parallel-item:last-child::after {align-self: flex-start;width: 50%;}#sk-container-id-2 div.sk-parallel-item:only-child::after {width: 0;}#sk-container-id-2 div.sk-dashed-wrapped {border: 1px dashed gray;margin: 0 0.4em 0.5em 0.4em;box-sizing: border-box;padding-bottom: 0.4em;background-color: white;}#sk-container-id-2 div.sk-label label {font-family: monospace;font-weight: bold;display: inline-block;line-height: 1.2em;}#sk-container-id-2 div.sk-label-container {text-align: center;}#sk-container-id-2 div.sk-container {/* jupyter's `normalize.less` sets `[hidden] { display: none; }` but bootstrap.min.css set `[hidden] { display: none !important; }` so we also need the `!important` here to be able to override the default hidden behavior on the sphinx rendered scikit-learn.org. See: https://github.com/scikit-learn/scikit-learn/issues/21755 */display: inline-block !important;position: relative;}#sk-container-id-2 div.sk-text-repr-fallback {display: none;}</style><div id=\"sk-container-id-2\" class=\"sk-top-container\"><div class=\"sk-text-repr-fallback\"><pre>GridSearchCV(cv=5,\n",
       "             estimator=XGBClassifier(base_score=None, booster=None,\n",
       "                                     callbacks=None, colsample_bylevel=None,\n",
       "                                     colsample_bynode=None,\n",
       "                                     colsample_bytree=None, device=None,\n",
       "                                     early_stopping_rounds=None,\n",
       "                                     enable_categorical=False, eval_metric=None,\n",
       "                                     feature_types=None, gamma=None,\n",
       "                                     grow_policy=None, importance_type=None,\n",
       "                                     interaction_constraints=None,\n",
       "                                     learning_rate=None,...\n",
       "                                     max_leaves=None, min_child_weight=None,\n",
       "                                     missing=nan, monotone_constraints=None,\n",
       "                                     multi_strategy=None, n_estimators=None,\n",
       "                                     n_jobs=None, num_parallel_tree=None,\n",
       "                                     random_state=73, ...),\n",
       "             n_jobs=-1,\n",
       "             param_grid={&#x27;gamma&#x27;: [0, 0.1, 0.2, 0.5],\n",
       "                         &#x27;learning_rate&#x27;: [0.01, 0.1, 0.5],\n",
       "                         &#x27;max_depth&#x27;: [3, 5, 7, 10],\n",
       "                         &#x27;min_child_weight&#x27;: [1, 3, 5],\n",
       "                         &#x27;n_estimators&#x27;: [50, 100, 200]},\n",
       "             scoring=&#x27;accuracy&#x27;, verbose=1)</pre><b>In a Jupyter environment, please rerun this cell to show the HTML representation or trust the notebook. <br />On GitHub, the HTML representation is unable to render, please try loading this page with nbviewer.org.</b></div><div class=\"sk-container\" hidden><div class=\"sk-item sk-dashed-wrapped\"><div class=\"sk-label-container\"><div class=\"sk-label sk-toggleable\"><input class=\"sk-toggleable__control sk-hidden--visually\" id=\"sk-estimator-id-2\" type=\"checkbox\" ><label for=\"sk-estimator-id-2\" class=\"sk-toggleable__label sk-toggleable__label-arrow\">GridSearchCV</label><div class=\"sk-toggleable__content\"><pre>GridSearchCV(cv=5,\n",
       "             estimator=XGBClassifier(base_score=None, booster=None,\n",
       "                                     callbacks=None, colsample_bylevel=None,\n",
       "                                     colsample_bynode=None,\n",
       "                                     colsample_bytree=None, device=None,\n",
       "                                     early_stopping_rounds=None,\n",
       "                                     enable_categorical=False, eval_metric=None,\n",
       "                                     feature_types=None, gamma=None,\n",
       "                                     grow_policy=None, importance_type=None,\n",
       "                                     interaction_constraints=None,\n",
       "                                     learning_rate=None,...\n",
       "                                     max_leaves=None, min_child_weight=None,\n",
       "                                     missing=nan, monotone_constraints=None,\n",
       "                                     multi_strategy=None, n_estimators=None,\n",
       "                                     n_jobs=None, num_parallel_tree=None,\n",
       "                                     random_state=73, ...),\n",
       "             n_jobs=-1,\n",
       "             param_grid={&#x27;gamma&#x27;: [0, 0.1, 0.2, 0.5],\n",
       "                         &#x27;learning_rate&#x27;: [0.01, 0.1, 0.5],\n",
       "                         &#x27;max_depth&#x27;: [3, 5, 7, 10],\n",
       "                         &#x27;min_child_weight&#x27;: [1, 3, 5],\n",
       "                         &#x27;n_estimators&#x27;: [50, 100, 200]},\n",
       "             scoring=&#x27;accuracy&#x27;, verbose=1)</pre></div></div></div><div class=\"sk-parallel\"><div class=\"sk-parallel-item\"><div class=\"sk-item\"><div class=\"sk-label-container\"><div class=\"sk-label sk-toggleable\"><input class=\"sk-toggleable__control sk-hidden--visually\" id=\"sk-estimator-id-3\" type=\"checkbox\" ><label for=\"sk-estimator-id-3\" class=\"sk-toggleable__label sk-toggleable__label-arrow\">estimator: XGBClassifier</label><div class=\"sk-toggleable__content\"><pre>XGBClassifier(base_score=None, booster=None, callbacks=None,\n",
       "              colsample_bylevel=None, colsample_bynode=None,\n",
       "              colsample_bytree=None, device=None, early_stopping_rounds=None,\n",
       "              enable_categorical=False, eval_metric=None, feature_types=None,\n",
       "              gamma=None, grow_policy=None, importance_type=None,\n",
       "              interaction_constraints=None, learning_rate=None, max_bin=None,\n",
       "              max_cat_threshold=None, max_cat_to_onehot=None,\n",
       "              max_delta_step=None, max_depth=None, max_leaves=None,\n",
       "              min_child_weight=None, missing=nan, monotone_constraints=None,\n",
       "              multi_strategy=None, n_estimators=None, n_jobs=None,\n",
       "              num_parallel_tree=None, random_state=73, ...)</pre></div></div></div><div class=\"sk-serial\"><div class=\"sk-item\"><div class=\"sk-estimator sk-toggleable\"><input class=\"sk-toggleable__control sk-hidden--visually\" id=\"sk-estimator-id-4\" type=\"checkbox\" ><label for=\"sk-estimator-id-4\" class=\"sk-toggleable__label sk-toggleable__label-arrow\">XGBClassifier</label><div class=\"sk-toggleable__content\"><pre>XGBClassifier(base_score=None, booster=None, callbacks=None,\n",
       "              colsample_bylevel=None, colsample_bynode=None,\n",
       "              colsample_bytree=None, device=None, early_stopping_rounds=None,\n",
       "              enable_categorical=False, eval_metric=None, feature_types=None,\n",
       "              gamma=None, grow_policy=None, importance_type=None,\n",
       "              interaction_constraints=None, learning_rate=None, max_bin=None,\n",
       "              max_cat_threshold=None, max_cat_to_onehot=None,\n",
       "              max_delta_step=None, max_depth=None, max_leaves=None,\n",
       "              min_child_weight=None, missing=nan, monotone_constraints=None,\n",
       "              multi_strategy=None, n_estimators=None, n_jobs=None,\n",
       "              num_parallel_tree=None, random_state=73, ...)</pre></div></div></div></div></div></div></div></div></div></div>"
      ],
      "text/plain": [
       "GridSearchCV(cv=5,\n",
       "             estimator=XGBClassifier(base_score=None, booster=None,\n",
       "                                     callbacks=None, colsample_bylevel=None,\n",
       "                                     colsample_bynode=None,\n",
       "                                     colsample_bytree=None, device=None,\n",
       "                                     early_stopping_rounds=None,\n",
       "                                     enable_categorical=False, eval_metric=None,\n",
       "                                     feature_types=None, gamma=None,\n",
       "                                     grow_policy=None, importance_type=None,\n",
       "                                     interaction_constraints=None,\n",
       "                                     learning_rate=None,...\n",
       "                                     max_leaves=None, min_child_weight=None,\n",
       "                                     missing=nan, monotone_constraints=None,\n",
       "                                     multi_strategy=None, n_estimators=None,\n",
       "                                     n_jobs=None, num_parallel_tree=None,\n",
       "                                     random_state=73, ...),\n",
       "             n_jobs=-1,\n",
       "             param_grid={'gamma': [0, 0.1, 0.2, 0.5],\n",
       "                         'learning_rate': [0.01, 0.1, 0.5],\n",
       "                         'max_depth': [3, 5, 7, 10],\n",
       "                         'min_child_weight': [1, 3, 5],\n",
       "                         'n_estimators': [50, 100, 200]},\n",
       "             scoring='accuracy', verbose=1)"
      ]
     },
     "execution_count": 130,
     "metadata": {},
     "output_type": "execute_result"
    }
   ],
   "source": [
    "# 进行网格搜索和交叉验证\n",
    "grid_search.fit(x_train, y_train)"
   ]
  },
  {
   "cell_type": "code",
   "execution_count": 131,
   "id": "c832dc2f-2fb2-445c-9e10-5a71734d593b",
   "metadata": {},
   "outputs": [
    {
     "name": "stdout",
     "output_type": "stream",
     "text": [
      "最佳参数: {'gamma': 0, 'learning_rate': 0.1, 'max_depth': 10, 'min_child_weight': 5, 'n_estimators': 200}\n"
     ]
    }
   ],
   "source": [
    "# 最佳参数和最高准确率\n",
    "# 输出最佳参数\n",
    "print(\"最佳参数:\", grid_search.best_params_)\n",
    "\n",
    "# 使用最佳参数的模型进行预测\n",
    "best_model = grid_search.best_estimator_\n",
    "\n",
    "result = best_model.predict(test)"
   ]
  },
  {
   "cell_type": "code",
   "execution_count": 132,
   "id": "4724710c-a297-4697-8c52-c1da1c00c394",
   "metadata": {},
   "outputs": [],
   "source": [
    "# 计算结果集并保存\n",
    "\n",
    "result = model.predict(test)\n",
    "# 保存预测结果并保存为文件，这里要注意因为测试集存在非法值，有一部分数据被删除，所以submit 中对应索引的行也要被删除\n",
    "submit['RainTomorrow'] = result\n",
    "submit.to_csv('submission.csv')"
   ]
  }
 ],
 "metadata": {
  "kernelspec": {
   "display_name": "Python 3 (ipykernel)",
   "language": "python",
   "name": "python3"
  },
  "language_info": {
   "codemirror_mode": {
    "name": "ipython",
    "version": 3
   },
   "file_extension": ".py",
   "mimetype": "text/x-python",
   "name": "python",
   "nbconvert_exporter": "python",
   "pygments_lexer": "ipython3",
   "version": "3.10.9"
  }
 },
 "nbformat": 4,
 "nbformat_minor": 5
}
